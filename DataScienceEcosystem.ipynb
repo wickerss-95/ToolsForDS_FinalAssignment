{
 "cells": [
  {
   "cell_type": "markdown",
   "id": "7f2857e8",
   "metadata": {},
   "source": [
    "# Data Science Tools and Ecosystem"
   ]
  },
  {
   "cell_type": "markdown",
   "id": "28538464",
   "metadata": {},
   "source": [
    "## Author\n",
    "Sean Wickers"
   ]
  },
  {
   "cell_type": "markdown",
   "id": "43e04592",
   "metadata": {},
   "source": [
    "In this notebook, Data Science Tools and Ecosystem are summarized."
   ]
  },
  {
   "cell_type": "markdown",
   "id": "bd6470fc",
   "metadata": {},
   "source": [
    "**Objectives:**\n",
    "- List popular languages for data science\n",
    "- include commonly used libraries for data science\n",
    "- describe widely used data science tools\n",
    "- demonstrate a few arithmetic expressions"
   ]
  },
  {
   "cell_type": "markdown",
   "id": "09ed7533",
   "metadata": {},
   "source": [
    "Some of the popular languages that Data Scientists use are:\n",
    "\n",
    "1. Python\n",
    "2. R\n",
    "3. SQL"
   ]
  },
  {
   "cell_type": "markdown",
   "id": "de54ca4d",
   "metadata": {},
   "source": [
    "Some of the commonly used libraries used by Data Scientists include:\n",
    "\n",
    "1. Pandas (python library for handling relational data)\n",
    "2. ggplot (R library designed for visualizing data)\n",
    "3. caret (R library for machine learning)"
   ]
  },
  {
   "cell_type": "markdown",
   "id": "476f1f15",
   "metadata": {},
   "source": [
    "|Data Science Tools|\n",
    "|----|\n",
    "| Jupyter Notebooks |\n",
    "| Jupyter Lab |\n",
    "| Rstudio |\n",
    "| VScode|"
   ]
  },
  {
   "cell_type": "markdown",
   "id": "1a6af220",
   "metadata": {},
   "source": [
    "### Below are a few examples of evaluating arithmetic expressions in Python"
   ]
  },
  {
   "cell_type": "code",
   "execution_count": 1,
   "id": "828379dd",
   "metadata": {},
   "outputs": [
    {
     "data": {
      "text/plain": [
       "17"
      ]
     },
     "execution_count": 1,
     "metadata": {},
     "output_type": "execute_result"
    }
   ],
   "source": [
    "#This a simple arithmetic expression to mutiply then add integers\n",
    "(3*4)+5"
   ]
  },
  {
   "cell_type": "code",
   "execution_count": 2,
   "id": "1f921d39",
   "metadata": {},
   "outputs": [
    {
     "data": {
      "text/plain": [
       "3.3333333333333335"
      ]
     },
     "execution_count": 2,
     "metadata": {},
     "output_type": "execute_result"
    }
   ],
   "source": [
    "#This will convert 200 minutes to hours by diving by 60\n",
    "200/60"
   ]
  }
 ],
 "metadata": {
  "kernelspec": {
   "display_name": "Python 3 (ipykernel)",
   "language": "python",
   "name": "python3"
  },
  "language_info": {
   "codemirror_mode": {
    "name": "ipython",
    "version": 3
   },
   "file_extension": ".py",
   "mimetype": "text/x-python",
   "name": "python",
   "nbconvert_exporter": "python",
   "pygments_lexer": "ipython3",
   "version": "3.9.13"
  }
 },
 "nbformat": 4,
 "nbformat_minor": 5
}
